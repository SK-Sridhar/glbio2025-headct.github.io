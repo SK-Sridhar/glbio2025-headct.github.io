{
  "cells": [
    {
      "cell_type": "markdown",
      "source": [
        "[![Open In Colab](https://colab.research.google.com/assets/colab-badge.svg)](https://colab.research.google.com/github/SK-Sridhar/glbio2025-headct.github.io/blob/main/Session3/Scarlett_GLBIO_Session3.ipynb)\n"
      ],
      "metadata": {
        "id": "pzL1UZZ6JqBR"
      },
      "id": "pzL1UZZ6JqBR"
    },
    {
      "cell_type": "markdown",
      "id": "e5ccef90",
      "metadata": {
        "id": "e5ccef90"
      },
      "source": [
        "# 🧠 PhD Research Summary: Optimizing Subdural Hematoma Surgery with AI & AR\n",
        "**Presenter:** Scarlett Cheong"
      ]
    },
    {
      "cell_type": "markdown",
      "id": "7cf185b1",
      "metadata": {
        "id": "7cf185b1"
      },
      "source": [
        "## 📚 Background & Significance"
      ]
    },
    {
      "cell_type": "markdown",
      "id": "5b9f2a21",
      "metadata": {
        "id": "5b9f2a21"
      },
      "source": [
        "\n",
        "- **Condition**: Chronic Subdural Hematoma (CSDH) is a common and potentially serious neurosurgical condition, especially prevalent in the elderly.\n",
        "- **Clinical Symptoms**: Headache, confusion, vomiting, aphasia, hemiparesis, and balance issues.\n",
        "- **Current Challenge**: Variability in surgical techniques and decision-making often leads to recurrence, requiring repeat interventions.\n",
        "- **Motivation**: Use computational methods to standardize and improve surgical planning and execution.\n"
      ]
    },
    {
      "cell_type": "markdown",
      "id": "063b7435",
      "metadata": {
        "id": "063b7435"
      },
      "source": [
        "## 🎯 Overall Research Objective"
      ]
    },
    {
      "cell_type": "markdown",
      "id": "684ddfed",
      "metadata": {
        "id": "684ddfed"
      },
      "source": [
        "> To develop and deploy a machine learning-driven augmented reality system that optimizes twist-drill craniotomy (TDC) placement for CSDH drainage, reducing recurrence rates and enhancing surgical outcomes.\n"
      ]
    },
    {
      "cell_type": "markdown",
      "id": "2f8a4bee",
      "metadata": {
        "id": "2f8a4bee"
      },
      "source": [
        "## 🧪 Research Aims"
      ]
    },
    {
      "cell_type": "markdown",
      "id": "21bf55bd",
      "metadata": {
        "id": "21bf55bd"
      },
      "source": [
        "\n",
        "**Aim 1:** Develop an AI-trained model to detect and segment CSDH from CT scans  \n",
        "**Aim 2:** Use ML to predict optimal twist-drill placement based on patient-specific hematoma characteristics  \n",
        "**Aim 3:** Deploy a real-time AR system to visualize the AI/ML output on the patient’s head during surgery\n"
      ]
    },
    {
      "cell_type": "markdown",
      "id": "843bfbc2",
      "metadata": {
        "id": "843bfbc2"
      },
      "source": [
        "### ✅ Aim 1: Automated Detection & Segmentation of CSDH"
      ]
    },
    {
      "cell_type": "markdown",
      "source": [
        "<img src=\"https://docs.google.com/uc?export=download&id=\n",
        "1gbtWnHBP8RqPe1-i6o4Ri-9hV-CBoCIG\">\n"
      ],
      "metadata": {
        "id": "_ggjYUMdyoXU"
      },
      "id": "_ggjYUMdyoXU"
    },
    {
      "cell_type": "markdown",
      "id": "af5d67e9",
      "metadata": {
        "id": "af5d67e9"
      },
      "source": [
        "### 🔍 Aim 2: Optimal Drill Site Prediction via ML"
      ]
    },
    {
      "cell_type": "markdown",
      "source": [
        "<img src=\"https://docs.google.com/uc?export=download&id=\n",
        "1Ca8Efmh_WLKHBT7bAyr0j3ZgSSz7FwJQ\">\n",
        "\n",
        "https://www.frontiersin.org/journals/neurology/articles/10.3389/fneur.2023.1086645/full"
      ],
      "metadata": {
        "id": "p1oJThZL21s4"
      },
      "id": "p1oJThZL21s4"
    },
    {
      "cell_type": "markdown",
      "id": "20a72ba5",
      "metadata": {
        "id": "20a72ba5"
      },
      "source": [
        "### 🧠 Aim 3: Augmented Reality (AR) Deployment for Neurosurgical Guidance"
      ]
    },
    {
      "cell_type": "markdown",
      "id": "87f33a29",
      "metadata": {
        "id": "87f33a29"
      },
      "source": [
        "<img src=\"https://docs.google.com/uc?export=download&id=\n",
        "1lQ-STEpBqGz2uauxjYtaYoHlB76Sk4j8\">\n"
      ]
    },
    {
      "cell_type": "markdown",
      "id": "7233559c",
      "metadata": {
        "id": "7233559c"
      },
      "source": [
        "## 🚀 Scientific Impact"
      ]
    },
    {
      "cell_type": "markdown",
      "id": "5550ecf4",
      "metadata": {
        "id": "5550ecf4"
      },
      "source": [
        "\n",
        "- Establish a reproducible deep learning pipeline for CSDH detection\n",
        "- Advance evidence-based surgical planning through AI\n",
        "- Demonstrate feasibility of real-time AR visualization in neurosurgery\n",
        "- Contribute to future clinical decision-support systems\n"
      ]
    },
    {
      "cell_type": "markdown",
      "id": "9bdc9efc",
      "metadata": {
        "id": "9bdc9efc"
      },
      "source": [
        "# 🤕 Overview of Traumatic Brain Injury (TBI)"
      ]
    },
    {
      "cell_type": "markdown",
      "id": "d515cd60",
      "metadata": {
        "id": "d515cd60"
      },
      "source": [
        "## 🧍‍♂️ Common Cause of TBI: Falls"
      ]
    },
    {
      "cell_type": "markdown",
      "id": "1f50f879",
      "metadata": {
        "id": "1f50f879"
      },
      "source": [
        "\n",
        "Falls are one of the most frequent causes of TBI, especially in elderly populations. Head impacts from falls can lead to hematoma formation and brain swelling.\n"
      ]
    },
    {
      "cell_type": "markdown",
      "id": "98bf3c22",
      "metadata": {
        "id": "98bf3c22"
      },
      "source": [
        "## 🧠 Types of Intracranial Hemorrhage"
      ]
    },
    {
      "cell_type": "markdown",
      "id": "17d8296d",
      "metadata": {
        "id": "17d8296d"
      },
      "source": [
        "<img src=\"https://docs.google.com/uc?export=download&id=\n",
        "1nZ2tr-eWbrV46162GxNsOjQ1PTUJ-CTP\">\n",
        "\n",
        "This diagram shows the locations of common hemorrhage types:\n",
        "- **Epidural Hematoma (EDH)**: between skull and dura\n",
        "- **Subdural Hematoma (SDH)**: between dura and arachnoid\n",
        "- **Subarachnoid Hemorrhage (SAH)**: in subarachnoid space\n",
        "- **Intraventricular Hemorrhage (IVH)**: inside ventricles\n",
        "- **Intracerebral Hemorrhage (IPH)**: within brain tissue\n"
      ]
    },
    {
      "cell_type": "markdown",
      "id": "e004c850",
      "metadata": {
        "id": "e004c850"
      },
      "source": [
        "## 🔬 CT Examples of Hemorrhage Types"
      ]
    },
    {
      "cell_type": "markdown",
      "id": "dcc03779",
      "metadata": {
        "id": "dcc03779"
      },
      "source": [
        "<img src=\"https://docs.google.com/uc?export=download&id=\n",
        "1J_wS7leqlLHgs5oIMtbmYDObLCjvjAUh\">\n",
        "\n",
        "https://www.nature.com/articles/s41598-023-33775-y\n",
        "\n",
        "These CT images show real patient examples:\n",
        "- (a) IPH – Intraparenchymal hemorrhage\n",
        "- (b) IVH – Intraventricular hemorrhage\n",
        "- (c) SAH – Subarachnoid hemorrhage\n",
        "- (d) SDH – Subdural hematoma\n",
        "- (e) EDH – Epidural hematoma\n",
        "- (f) Multiple – Combined types\n",
        "\n",
        "Each type has characteristic density and shape, and early identification is critical to treatment decisions.\n"
      ]
    },
    {
      "cell_type": "markdown",
      "id": "09e4b889",
      "metadata": {
        "id": "09e4b889"
      },
      "source": [
        "## 📊 Hounsfield Unit (HU) Reference Scale"
      ]
    },
    {
      "cell_type": "markdown",
      "id": "4436e387",
      "metadata": {
        "id": "4436e387"
      },
      "source": [
        "<img src=\"https://docs.google.com/uc?export=download&id=\n",
        "1_1J8WllAzxJb6Pwlovx_fCveJuXjPdV-\">\n",
        "\n",
        "https://www.southsudanmedicaljournal.com/archive/august-2016/how-to-interpret-an-unenhanced-ct-brain-scan.-part-1-basic-principles-of-computed-tomography-and-relevant-neuroanatomy.html\n",
        "\n",
        "CT scans measure X-ray attenuation in Hounsfield Units (HU). Different tissues have different ranges:\n",
        "- Air: -1000\n",
        "- Fat: -100\n",
        "- Water: 0\n",
        "- CSF: ~10\n",
        "- Gray matter: 35–45\n",
        "- Blood: 55–75\n",
        "- Bone/Calcium: 200+\n"
      ]
    },
    {
      "cell_type": "markdown",
      "id": "10a3e924",
      "metadata": {
        "id": "10a3e924"
      },
      "source": [
        "# 🖥️ CT Imaging Formats, Conversion, Deidentification & Artifacts\n",
        "**Presenter:** Scarlett Cheong"
      ]
    },
    {
      "cell_type": "markdown",
      "id": "e95f6638",
      "metadata": {
        "id": "e95f6638"
      },
      "source": [
        "# 🧠 Part I: DICOM Series Check & Metadata Extraction"
      ]
    },
    {
      "cell_type": "markdown",
      "id": "6cca29fa",
      "metadata": {
        "id": "6cca29fa"
      },
      "source": [
        "## 🗂️ Overview of Medical Imaging File Formats\n",
        "\n",
        "| Format | Extension | Description |\n",
        "|--------|-----------|-------------|\n",
        "| **DICOM** | `.dcm` | Standard format used in clinical imaging (radiology, CT, MRI). Contains both image data and rich metadata (e.g., patient info, acquisition parameters). |\n",
        "| **NIfTI** | `.nii`, `.nii.gz` | Common in neuroimaging and research. Designed for 3D/4D volumes; stores spatial orientation info and supports compression. Widely used in tools like FSL, SPM, ANTs. |\n",
        "| **NRRD** | `.nrrd` | Flexible format for storing n-dimensional raster data. Frequently used in scientific visualization and ITK/3D Slicer environments. Stores metadata in a human-readable header. |\n",
        "\n",
        "> 🧠 Each format has its strengths:  \n",
        "> `.dcm` is best for clinical systems, `.nii` for neuroimaging pipelines, and `.nrrd` for visualization and flexible volume data storage.\n"
      ]
    },
    {
      "cell_type": "markdown",
      "id": "2233f355",
      "metadata": {
        "id": "2233f355"
      },
      "source": [
        "## 📦 Medical Imaging File Format Comparison\n",
        "\n",
        "| Format | Extension | Common Use | Metadata Support | Compression | Tools |\n",
        "|--------|-----------|------------|------------------|-------------|-------|\n",
        "| **DICOM** | `.dcm` | Clinical imaging (PACS) | ✅ Extensive | ❌ (usually uncompressed) | RadiAnt, OsiriX, 3D Slicer |\n",
        "| **NIfTI** | `.nii`, `.nii.gz` | Neuroimaging | ✅ Basic | ✅ (`.nii.gz`) | FSL, SPM, ANTs |\n",
        "| **NRRD** | `.nrrd` | Research & visualization | ✅ Flexible | ✅ | 3D Slicer, ITK, VTK |\n",
        "\n",
        "> Below is a visual schematic showing how these formats store image and metadata information.\n"
      ]
    },
    {
      "cell_type": "markdown",
      "id": "1bbd166b",
      "metadata": {
        "id": "1bbd166b"
      },
      "source": [
        "## 📦 Step 1: Install Required Python Packages"
      ]
    },
    {
      "cell_type": "code",
      "execution_count": null,
      "id": "37a1c80d",
      "metadata": {
        "id": "37a1c80d",
        "collapsed": true
      },
      "outputs": [],
      "source": [
        "!pip install pydicom nibabel dicom2nifti gdown"
      ]
    },
    {
      "cell_type": "code",
      "execution_count": null,
      "id": "5aa2b958",
      "metadata": {
        "id": "5aa2b958"
      },
      "outputs": [],
      "source": [
        "import os\n",
        "import pydicom\n",
        "import numpy as np\n",
        "import subprocess\n",
        "import nibabel as nib\n",
        "import matplotlib.pyplot as plt\n",
        "import matplotlib.patches as patches\n",
        "import json\n",
        "from IPython.display import display\n",
        "from scipy.ndimage import label, find_objects\n",
        "from google.colab import drive\n",
        "import gdown\n",
        "import gdown\n",
        "import zipfile\n",
        "\n"
      ]
    },
    {
      "cell_type": "code",
      "source": [
        "# Replace with your actual Google Drive file ID\n",
        "file_id = \"1EFeg0tI8uss0SLNeNuob5a_fv8CjrEuS\"\n",
        "output = \"dicom_data.zip\"\n",
        "\n",
        "# Download from Google Drive\n",
        "gdown.download(f\"https://drive.google.com/uc?id={file_id}\", output, quiet=False)\n"
      ],
      "metadata": {
        "id": "Ajkc5GhlEBTl"
      },
      "id": "Ajkc5GhlEBTl",
      "execution_count": null,
      "outputs": []
    },
    {
      "cell_type": "markdown",
      "id": "f0c6a867",
      "metadata": {
        "id": "f0c6a867"
      },
      "source": [
        "## 🔍 Step 2: Check if the Folder Contains a Valid DICOM Series"
      ]
    },
    {
      "cell_type": "code",
      "execution_count": null,
      "id": "f04ee8ea",
      "metadata": {
        "id": "f04ee8ea"
      },
      "outputs": [],
      "source": [
        "# Extract the zip\n",
        "zip_path = \"dicom_data.zip\"\n",
        "extract_path = \"/content/dicom_data\"\n",
        "os.makedirs(extract_path, exist_ok=True)\n",
        "\n",
        "with zipfile.ZipFile(zip_path, 'r') as zip_ref:\n",
        "    zip_ref.extractall(extract_path)\n",
        "\n",
        "# Set your DICOM folder path\n",
        "dicom_folder = extract_path  # or \"/content/dicom_data\"\n",
        "\n",
        "print(\"📂 DICOM files in folder:\", os.listdir(dicom_folder)[:5])  # Preview a few files\n",
        "print(f\"✅ DICOM data ready at: {dicom_folder}\")"
      ]
    },
    {
      "cell_type": "code",
      "source": [
        "print(os.listdir(extract_path))"
      ],
      "metadata": {
        "id": "5jGMhWR2nKtQ"
      },
      "id": "5jGMhWR2nKtQ",
      "execution_count": null,
      "outputs": []
    },
    {
      "cell_type": "code",
      "source": [
        "os.listdir(\"dicom_data\")"
      ],
      "metadata": {
        "id": "eKRznOuKMzwJ"
      },
      "id": "eKRznOuKMzwJ",
      "execution_count": null,
      "outputs": []
    },
    {
      "cell_type": "markdown",
      "id": "dffd780d",
      "metadata": {
        "id": "dffd780d"
      },
      "source": [
        "## 📸 Step 3: Visualize a Middle Slice from the DICOM Series"
      ]
    },
    {
      "cell_type": "code",
      "execution_count": null,
      "id": "6406a01f",
      "metadata": {
        "id": "6406a01f"
      },
      "outputs": [],
      "source": [
        "# Set folder path\n",
        "dicom_folder = \"dicom_data\"\n",
        "\n",
        "# List all DICOM files (some may not have extensions)\n",
        "dicom_files = sorted([f for f in os.listdir(dicom_folder) if not '.' in f or f.lower().endswith(\".dcm\")])\n",
        "\n",
        "# Pick the middle file\n",
        "#mid_index = len(dicom_files) // 2\n",
        "mid_index = 19\n",
        "mid_file_path = os.path.join(dicom_folder, dicom_files[mid_index])\n",
        "\n",
        "# Load and show image\n",
        "ds = pydicom.dcmread(mid_file_path)\n",
        "image = ds.pixel_array\n",
        "\n",
        "# Normalize for consistent display\n",
        "image = image.astype('float32')\n",
        "image = (image - image.min()) / (image.max() - image.min())\n",
        "\n",
        "# Plot\n",
        "plt.figure(figsize=(6, 6))\n",
        "plt.imshow(image, cmap='gray')\n",
        "plt.title(f\"Middle Slice from DICOM (File {mid_index + 1}/{len(dicom_files)})\")\n",
        "plt.axis('off')\n",
        "plt.show()\n"
      ]
    },
    {
      "cell_type": "markdown",
      "id": "692f10aa",
      "metadata": {
        "id": "692f10aa"
      },
      "source": [
        "## 📊 Step 4: Apply Window Level to DICOM Slice (C=50, W=100)"
      ]
    },
    {
      "cell_type": "code",
      "execution_count": null,
      "id": "9e8c497b",
      "metadata": {
        "id": "9e8c497b"
      },
      "outputs": [],
      "source": [
        "\n",
        "# Get rescale slope/intercept\n",
        "slope = float(ds.get('RescaleSlope', 1))\n",
        "intercept = float(ds.get('RescaleIntercept', 0))\n",
        "\n",
        "# Convert pixel values to Hounsfield Units\n",
        "raw_image = ds.pixel_array.astype('float32')\n",
        "hu_image = raw_image * slope + intercept\n",
        "\n",
        "# Window level settings\n",
        "window_center = 50\n",
        "window_width = 100\n",
        "window_min = window_center - (window_width / 2)\n",
        "window_max = window_center + (window_width / 2)\n",
        "\n",
        "# Apply windowing\n",
        "windowed_image = hu_image.copy()\n",
        "windowed_image[windowed_image < window_min] = window_min\n",
        "windowed_image[windowed_image > window_max] = window_max\n",
        "windowed_image = (windowed_image - window_min) / (window_max - window_min)\n",
        "\n",
        "# Plot\n",
        "plt.figure(figsize=(6, 6))\n",
        "plt.imshow(windowed_image, cmap='gray')\n",
        "plt.title(\"Windowed DICOM Slice (Level=50, Width=100)\")\n",
        "plt.axis('off')\n",
        "plt.show()\n"
      ]
    },
    {
      "cell_type": "markdown",
      "id": "413591c3",
      "metadata": {
        "id": "413591c3"
      },
      "source": [
        "## 🧾 Step 5: Display Full DICOM Header for One Slice"
      ]
    },
    {
      "cell_type": "code",
      "execution_count": null,
      "id": "c89f9c70",
      "metadata": {
        "scrolled": false,
        "id": "c89f9c70",
        "collapsed": true
      },
      "outputs": [],
      "source": [
        "\n",
        "for file in os.listdir(dicom_folder):\n",
        "    if file.lower().endswith(\".dcm\") or not '.' in file:\n",
        "        dcm_path = os.path.join(dicom_folder, file)\n",
        "        ds = pydicom.dcmread(dcm_path)\n",
        "        print(ds)\n",
        "        break\n"
      ]
    },
    {
      "cell_type": "markdown",
      "id": "a8588dfb",
      "metadata": {
        "id": "a8588dfb"
      },
      "source": [
        "## 📄 Step 6: Read and Display Basic DICOM Metadata"
      ]
    },
    {
      "cell_type": "code",
      "execution_count": null,
      "id": "e89bead4",
      "metadata": {
        "id": "e89bead4"
      },
      "outputs": [],
      "source": [
        "\n",
        "def read_dicom_metadata(dicom_folder):\n",
        "    for file in os.listdir(dicom_folder):\n",
        "        if file.lower().endswith(\".dcm\") or not '.' in file:\n",
        "            dcm_path = os.path.join(dicom_folder, file)\n",
        "            ds = pydicom.dcmread(dcm_path)\n",
        "            print(\"------ DICOM Metadata ------\")\n",
        "            print(f\"Patient ID: {ds.get('PatientID', 'N/A')}\")\n",
        "            print(f\"Study Date: {ds.get('StudyDate', 'N/A')}\")\n",
        "            print(f\"Modality: {ds.get('Modality', 'N/A')}\")\n",
        "            print(f\"Manufacturer: {ds.get('Manufacturer', 'N/A')}\")\n",
        "            print(f\"Slice Thickness: {ds.get('SliceThickness', 'N/A')}\")\n",
        "            print(f\"Pixel Spacing: {ds.get('PixelSpacing', 'N/A')}\")\n",
        "            print(f\"Rows x Columns: {ds.get('Rows', 'N/A')} x {ds.get('Columns', 'N/A')}\")\n",
        "            break\n",
        "\n",
        "read_dicom_metadata(dicom_folder)\n"
      ]
    },
    {
      "cell_type": "markdown",
      "source": [
        "## 📋 Step 7: Common DICOM Fields to De-Identify\n",
        "\n",
        "When working with DICOM images, certain metadata fields may contain **protected health information (PHI)** and must be removed or anonymized before sharing or analysis.\n",
        "\n",
        "Below are some of the most common fields to de-identify:\n",
        "\n",
        "| **Field Name**              | **DICOM Tag**  | **Example Value (Before)**               | **De-identified Value (After)**     |\n",
        "|----------------------------|----------------|------------------------------------------|-------------------------------------|\n",
        "| `PatientName`              | (0010,0010)     | TBI_INVAC184NYT                          | Scarlett Cheong                           |\n",
        "| `PatientID`                | (0010,0020)     | 12345678                                 | P001                                |\n",
        "| `PatientBirthDate`         | (0010,0030)     | 19910101                                 | 20200514                            |\n",
        "| `StudyDate`                | (0008,0020)     | 20000101                                 | 20250514                            |\n",
        "| `InstitutionName`          | (0008,0080)     | University of Minnesota Hospital         | De-identified Center                |\n",
        "| `ReferringPhysicianName`   | (0008,0090)     | Dr. John Smith                           | Dr. Anonymous                               |\n",
        "\n",
        "> ℹ️ These fields are easy to inspect and modify using `pydicom` in Python.\n"
      ],
      "metadata": {
        "id": "PO5-7Tv1DkPC"
      },
      "id": "PO5-7Tv1DkPC"
    },
    {
      "cell_type": "code",
      "source": [
        "# Load DICOM file\n",
        "for file in os.listdir(dicom_folder):\n",
        "    if file.lower().endswith(\".dcm\") or not '.' in file:\n",
        "        dcm_path = os.path.join(dicom_folder, file)\n",
        "        ds = pydicom.dcmread(dcm_path)\n",
        "        break  # just grab one file for demo\n",
        "\n",
        "# Print BEFORE de-identification\n",
        "print(\"📋 Before De-identification:\")\n",
        "for tag in ['PatientName', 'PatientID', 'PatientBirthDate', 'StudyDate', 'InstitutionName', 'ReferringPhysicianName']:\n",
        "    print(f\"{tag}: {ds.get(tag, 'Not Found')}\")\n",
        "\n",
        "# Apply DE-IDENTIFICATION\n",
        "ds.PatientName = \"Scarlett Cheong\"\n",
        "ds.PatientID = \"P001\"\n",
        "ds.PatientBirthDate = \"20200514\"\n",
        "ds.StudyDate = \"20250514\"\n",
        "ds.InstitutionName = \"GLBIO 2025\"\n",
        "ds.ReferringPhysicianName = \"Dr. Anonymous\"\n",
        "\n",
        "# Print AFTER de-identification\n",
        "print(\"\\n✅ After De-identification:\")\n",
        "for tag in ['PatientName', 'PatientID', 'PatientBirthDate', 'StudyDate', 'InstitutionName', 'ReferringPhysicianName']:\n",
        "    print(f\"{tag}: {ds.get(tag, 'Not Found')}\")\n"
      ],
      "metadata": {
        "id": "FXcCd8OsCnl_"
      },
      "id": "FXcCd8OsCnl_",
      "execution_count": null,
      "outputs": []
    },
    {
      "cell_type": "markdown",
      "id": "c59d4566",
      "metadata": {
        "id": "c59d4566"
      },
      "source": [
        "# 🧠 Part II: Convert DICOM to NIfTI and Visualize"
      ]
    },
    {
      "cell_type": "markdown",
      "id": "e24f0561",
      "metadata": {
        "id": "e24f0561"
      },
      "source": [
        "## 🛠 Step 1: Define Input and Output Paths"
      ]
    },
    {
      "cell_type": "code",
      "execution_count": null,
      "id": "ef85813e",
      "metadata": {
        "id": "ef85813e"
      },
      "outputs": [],
      "source": [
        "## SET ALL THE PATH TO APPROPROATE DIRECTORY\n",
        "# Paths\n",
        "\n",
        "dicom_input_folder = \"/content/dicom_data\"\n",
        "nifti_output_folder = \"/content/nifti_output\"\n",
        "output_filename = \"case_study_1\"\n",
        "\n",
        "os.makedirs(nifti_output_folder, exist_ok=True)\n",
        "\n"
      ]
    },
    {
      "cell_type": "code",
      "source": [
        "!python -m pip install \"git+https://github.com/rordenlab/dcm2niix@development\"\n"
      ],
      "metadata": {
        "id": "WKgG3KhDNkCn"
      },
      "id": "WKgG3KhDNkCn",
      "execution_count": null,
      "outputs": []
    },
    {
      "cell_type": "markdown",
      "id": "512ff770",
      "metadata": {
        "id": "512ff770"
      },
      "source": [
        "## 🚀 Step 2: Run the Conversion using dcm2niix"
      ]
    },
    {
      "cell_type": "code",
      "source": [
        "!dcm2niix -z y -o \"$nifti_output_folder\" -f \"$output_filename\" \"$dicom_input_folder\""
      ],
      "metadata": {
        "id": "aciCo-QroRtq"
      },
      "id": "aciCo-QroRtq",
      "execution_count": null,
      "outputs": []
    },
    {
      "cell_type": "code",
      "source": [
        "print(\"📁 NIfTI output files:\", os.listdir(nifti_output_folder))"
      ],
      "metadata": {
        "id": "-Eg-K2AwoX1L"
      },
      "id": "-Eg-K2AwoX1L",
      "execution_count": null,
      "outputs": []
    },
    {
      "cell_type": "markdown",
      "id": "b771eeef",
      "metadata": {
        "id": "b771eeef"
      },
      "source": [
        "## 📂 Step 3: Load and Inspect the NIfTI File"
      ]
    },
    {
      "cell_type": "code",
      "execution_count": null,
      "id": "a7ca6992",
      "metadata": {
        "id": "a7ca6992"
      },
      "outputs": [],
      "source": [
        "\n",
        "# Construct full path to output\n",
        "nifti_path = os.path.join(nifti_output_folder, \"case_study_1.nii.gz\")\n",
        "nifti_img = nib.load(nifti_path)\n",
        "\n",
        "print(\"NIfTI Shape:\", nifti_img.shape)\n",
        "print(\"Voxel Dimensions:\", nifti_img.header.get_zooms())\n"
      ]
    },
    {
      "cell_type": "markdown",
      "id": "d1514b65",
      "metadata": {
        "id": "d1514b65"
      },
      "source": [
        "## 🖼️ Step 4: Visualize a Slice from the NIfTI Volume"
      ]
    },
    {
      "cell_type": "code",
      "execution_count": null,
      "id": "9b2059ec",
      "metadata": {
        "scrolled": false,
        "id": "9b2059ec"
      },
      "outputs": [],
      "source": [
        "\n",
        "data = nifti_img.get_fdata()\n",
        "mid_slice = 19\n",
        "\n",
        "plt.figure(figsize=(6, 6))\n",
        "plt.imshow(np.rot90(data[:, :, mid_slice], k=1), cmap='gray')  # Rotate 90° counterclockwise\n",
        "plt.title(f\"Middle Slice ({mid_slice}) from CT Volume\")\n",
        "plt.axis('off')\n",
        "plt.show()\n"
      ]
    },
    {
      "cell_type": "markdown",
      "id": "a50b5a1b",
      "metadata": {
        "id": "a50b5a1b"
      },
      "source": [
        "## 🪟 Step 5: Adjust Window Level and Re-Visualize the Slice\n",
        "\n",
        "We'll apply a basic window level adjustment (center = 50, width = 100), which corresponds to soft tissue contrast in CT scans."
      ]
    },
    {
      "cell_type": "code",
      "execution_count": null,
      "id": "065bebfa",
      "metadata": {
        "id": "065bebfa"
      },
      "outputs": [],
      "source": [
        "\n",
        "# Window level adjustment\n",
        "window_center = 50\n",
        "window_width = 100\n",
        "window_min = window_center - (window_width / 2)\n",
        "window_max = window_center + (window_width / 2)\n",
        "\n",
        "# Apply windowing\n",
        "windowed_slice = data[:, :, mid_slice].copy()\n",
        "windowed_slice[windowed_slice < window_min] = window_min\n",
        "windowed_slice[windowed_slice > window_max] = window_max\n",
        "\n",
        "# Normalize for display\n",
        "windowed_slice = (windowed_slice - window_min) / (window_max - window_min)\n",
        "\n",
        "# Plot the adjusted image\n",
        "plt.figure(figsize=(6, 6))\n",
        "plt.imshow(np.rot90(windowed_slice, k=1), cmap='gray')  # Rotate 90° CCW\n",
        "plt.title(f\"Windowed Slice (Level=50, Width=100)\")\n",
        "plt.axis('off')\n",
        "plt.show()\n"
      ]
    },
    {
      "cell_type": "markdown",
      "id": "ebe0b832",
      "metadata": {
        "id": "ebe0b832"
      },
      "source": [
        "# 🧠 Part III: Understanding and Comparing dcm2niix Output Files"
      ]
    },
    {
      "cell_type": "markdown",
      "id": "34d6eed4",
      "metadata": {
        "id": "34d6eed4"
      },
      "source": [
        "\n",
        "After converting DICOM files using `dcm2niix`, you often get multiple files:\n",
        "\n",
        "- **TBI_INVAC184NYT_Series-3.nii.gz**: Standard NIfTI without correcting for gantry tilt.\n",
        "- **TBI_INVAC184NYT_Series-3_Tilt_Eq_1.nii.gz**: Gantry-tilt-corrected version — important when slices are angled.\n",
        "- **TBI_INVAC184NYT_Series-3.json**: Metadata describing the scan, useful in research pipelines (e.g., BIDS).\n",
        "\n",
        "We'll compare the two NIfTI images visually and review the contents of the metadata file."
      ]
    },
    {
      "cell_type": "markdown",
      "id": "43d3643e",
      "metadata": {
        "id": "43d3643e"
      },
      "source": [
        "## 📂 Step 1: Load Both NIfTI Files"
      ]
    },
    {
      "cell_type": "code",
      "source": [
        "original_nifti_path = \"/content/nifti_output/case_study_1.nii.gz\"\n",
        "tilt_corrected_path = \"/content/nifti_output/case_study_1_Tilt_Eq_1.nii.gz\"\n",
        "\n",
        "# Load both images\n",
        "nii_orig = nib.load(original_nifti_path)\n",
        "nii_tilt = nib.load(tilt_corrected_path)\n",
        "\n",
        "# Get data\n",
        "data_orig = nii_orig.get_fdata()\n",
        "data_tilt = nii_tilt.get_fdata()\n",
        "\n",
        "# Show shape comparison\n",
        "print(\"Original Shape:\", data_orig.shape)\n",
        "print(\"Tilt-Corrected Shape:\", data_tilt.shape)\n"
      ],
      "metadata": {
        "id": "y9q87ymPLZef"
      },
      "id": "y9q87ymPLZef",
      "execution_count": null,
      "outputs": []
    },
    {
      "cell_type": "markdown",
      "id": "aba321f9",
      "metadata": {
        "id": "aba321f9"
      },
      "source": [
        "## 🔄 Compare Orientation: DICOM vs NIfTI (Soft Tissue Window)\n",
        "\n",
        "We'll compare the same middle slice from the original DICOM and the converted NIfTI volume side-by-side using a soft tissue window (Level=50, Width=100). This helps visualize the orientation difference introduced during DICOM-to-NIfTI conversion."
      ]
    },
    {
      "cell_type": "code",
      "execution_count": null,
      "id": "6ae1457f",
      "metadata": {
        "id": "6ae1457f"
      },
      "outputs": [],
      "source": [
        "# Load DICOM slice and convert to Hounsfield Units\n",
        "dicom_files = sorted([f for f in os.listdir(dicom_input_folder) if not '.' in f or f.lower().endswith(\".dcm\")])\n",
        "mid_index = 19\n",
        "mid_file_path = os.path.join(dicom_input_folder, dicom_files[mid_index])\n",
        "ds = pydicom.dcmread(mid_file_path)\n",
        "\n",
        "slope = float(ds.get('RescaleSlope', 1))\n",
        "intercept = float(ds.get('RescaleIntercept', 0))\n",
        "hu_dicom = ds.pixel_array.astype('float32') * slope + intercept\n",
        "\n",
        "# Apply windowing\n",
        "window_center = 50\n",
        "window_width = 100\n",
        "window_min = window_center - (window_width / 2)\n",
        "window_max = window_center + (window_width / 2)\n",
        "\n",
        "def apply_window(img):\n",
        "    win = img.copy()\n",
        "    win[win < window_min] = window_min\n",
        "    win[win > window_max] = window_max\n",
        "    return (win - window_min) / (window_max - window_min)\n",
        "\n",
        "dicom_windowed = apply_window(hu_dicom)\n",
        "\n",
        "# Load NIfTI slice and apply same window\n",
        "mid_slice = 19\n",
        "nifti_slice = data_orig[:, :, mid_slice]\n",
        "nifti_windowed = apply_window(nifti_slice)\n",
        "\n",
        "# Plot side-by-side\n",
        "plt.figure(figsize=(12, 6))\n",
        "plt.subplot(1, 2, 1)\n",
        "plt.imshow(dicom_windowed, cmap='gray')\n",
        "plt.title(\"Original DICOM Orientation (Windowed)\")\n",
        "plt.axis('off')\n",
        "\n",
        "plt.subplot(1, 2, 2)\n",
        "plt.imshow(np.rot90(nifti_windowed, k=3), cmap='gray')\n",
        "plt.title(\"Converted NIfTI Orientation (Windowed)\")\n",
        "plt.axis('off')\n",
        "\n",
        "plt.tight_layout()\n",
        "plt.show()\n"
      ]
    },
    {
      "cell_type": "markdown",
      "id": "2ee1b259",
      "metadata": {
        "id": "2ee1b259"
      },
      "source": [
        "\n",
        "### 🧠 Why Is the NIfTI Orientation Flipped?\n",
        "\n",
        "The apparent orientation flip between DICOM and NIfTI occurs because:\n",
        "\n",
        "- **DICOM** uses a patient-based coordinate system (LPS: Left-Posterior-Superior)\n",
        "- **NIfTI** uses a scanner-based coordinate system (RAS: Right-Anterior-Superior)\n",
        "- When converting from DICOM to NIfTI, these different conventions can cause slices to appear **rotated or mirrored**, especially when visualized with general-purpose plotting tools like `matplotlib`, which do not account for medical orientation tags.\n",
        "\n",
        "For accurate visualization, it's important to **rotate NIfTI slices 90° counterclockwise** to match the anatomical view seen in DICOM viewers (like RadiAnt or 3D Slicer).\n"
      ]
    },
    {
      "cell_type": "markdown",
      "id": "88ce525d",
      "metadata": {
        "id": "88ce525d"
      },
      "source": [
        "## 🖼️ Step 2(A): Visualize a Slice from Both Volumes - Axial View"
      ]
    },
    {
      "cell_type": "code",
      "execution_count": null,
      "id": "d3468b07",
      "metadata": {
        "id": "d3468b07"
      },
      "outputs": [],
      "source": [
        "\n",
        "# Window function\n",
        "\n",
        "# Apply window level (center = 50, width = 100)\n",
        "window_center = 50\n",
        "window_width = 100\n",
        "window_min = window_center - (window_width / 2)\n",
        "window_max = window_center + (window_width / 2)\n",
        "\n",
        "def apply_window(slice_data):\n",
        "    win = slice_data.copy()\n",
        "    win[win < window_min] = window_min\n",
        "    win[win > window_max] = window_max\n",
        "    return (win - window_min) / (window_max - window_min)\n",
        "\n",
        "\n",
        "# Pick a middle slice index\n",
        "z_idx_orig = data_orig.shape[2] // 2\n",
        "z_idx_tilt = data_tilt.shape[2] // 2\n",
        "\n",
        "# Plot side-by-side\n",
        "plt.figure(figsize=(12, 6))\n",
        "\n",
        "plt.subplot(1, 2, 1)\n",
        "plt.imshow(np.rot90(apply_window(data_orig[:, :, z_idx_orig]), k=1), cmap='gray')\n",
        "plt.title(\"Original Volume (Windowed)\")\n",
        "plt.axis('off')\n",
        "\n",
        "plt.subplot(1, 2, 2)\n",
        "plt.imshow(np.rot90(apply_window(data_tilt[:, :, z_idx_tilt]), k=1), cmap='gray')\n",
        "plt.title(\"Tilt-Corrected Volume (Windowed)\")\n",
        "plt.axis('off')\n",
        "\n",
        "plt.tight_layout()\n",
        "plt.show()\n"
      ]
    },
    {
      "cell_type": "markdown",
      "id": "bf771d28",
      "metadata": {
        "id": "bf771d28"
      },
      "source": [
        "## 🖼️ Step 2(B): Visualize a Slice from Both Volumes - Sagittal View"
      ]
    },
    {
      "cell_type": "code",
      "execution_count": null,
      "id": "ce0f4b3b",
      "metadata": {
        "scrolled": false,
        "id": "ce0f4b3b"
      },
      "outputs": [],
      "source": [
        "\n",
        "# Apply window level (C=50, W=100)\n",
        "window_center = 50\n",
        "window_width = 100\n",
        "window_min = window_center - (window_width / 2)\n",
        "window_max = window_center + (window_width / 2)\n",
        "\n",
        "def apply_window(slice_data):\n",
        "    win = slice_data.copy()\n",
        "    win[win < window_min] = window_min\n",
        "    win[win > window_max] = window_max\n",
        "    return (win - window_min) / (window_max - window_min)\n",
        "\n",
        "# Get sagittal slices (slicing along x-axis)\n",
        "x_idx_orig = data_orig.shape[0] // 2\n",
        "x_idx_tilt = data_tilt.shape[0] // 2\n",
        "\n",
        "sagittal_orig = data_orig[x_idx_orig, :, :]\n",
        "sagittal_tilt = data_tilt[x_idx_tilt, :, :]\n",
        "\n",
        "# Visualize true sagittal view (rotated for natural viewing)\n",
        "plt.figure(figsize=(12, 6))\n",
        "\n",
        "plt.subplot(1, 2, 1)\n",
        "plt.imshow(np.flipud(apply_window(np.rot90(sagittal_orig))), cmap='gray', origin='lower', aspect='auto')\n",
        "plt.title(\"Original Volume (Sagittal View)\")\n",
        "plt.axis('off')\n",
        "\n",
        "plt.subplot(1, 2, 2)\n",
        "plt.imshow(np.flipud(apply_window(np.rot90(sagittal_tilt))), cmap='gray', origin='lower', aspect='auto')\n",
        "plt.title(\"Tilt-Corrected Volume (Sagittal View)\")\n",
        "plt.axis('off')\n",
        "\n",
        "plt.tight_layout()\n",
        "plt.show()\n"
      ]
    },
    {
      "cell_type": "markdown",
      "id": "2ddc8ca8",
      "metadata": {
        "id": "2ddc8ca8"
      },
      "source": [
        "### ✨Tilt correction reprojects angled CT slices into an orthogonal grid. This process adds slices and adjusts pixel dimensions, which results in a new shape. It's essential for accurate 3D analysis and spatial alignment across modalities."
      ]
    },
    {
      "cell_type": "markdown",
      "id": "a8aed8d0",
      "metadata": {
        "id": "a8aed8d0"
      },
      "source": [
        "## 📄 Step 3: Display JSON Metadata"
      ]
    },
    {
      "cell_type": "code",
      "execution_count": null,
      "id": "92770324",
      "metadata": {
        "id": "92770324"
      },
      "outputs": [],
      "source": [
        "## SET ALL THE PATH TO ITS FILE\n",
        "\n",
        "# Load JSON metadata\n",
        "json_path = \"/content/nifti_output/case_study_1.json\"\n",
        "with open(json_path, \"r\") as f:\n",
        "    metadata = json.load(f)\n",
        "\n",
        "# Pretty-print the full metadata\n",
        "print(json.dumps(metadata, indent=4))"
      ]
    },
    {
      "cell_type": "code",
      "source": [
        "# Print key fields\n",
        "print(\"Modality:\", metadata.get(\"Modality\"))\n",
        "print(\"Patient Position:\", metadata.get(\"PatientPosition\"))\n",
        "print(\"Series Description:\", metadata.get(\"SeriesDescription\"))\n",
        "print(\"Image Orientation:\", metadata.get(\"ImageOrientationPatientDICOM\"))\n",
        "print(\"De-identification:\", metadata.get(\"DeidentificationMethod\"))"
      ],
      "metadata": {
        "id": "RSE2nvFbF3oL"
      },
      "id": "RSE2nvFbF3oL",
      "execution_count": null,
      "outputs": []
    },
    {
      "cell_type": "markdown",
      "id": "719bf3d8",
      "metadata": {
        "id": "719bf3d8"
      },
      "source": [
        "## ✅ Summary"
      ]
    },
    {
      "cell_type": "markdown",
      "id": "37184e80",
      "metadata": {
        "id": "37184e80"
      },
      "source": [
        "\n",
        "- **Use the tilt-corrected version** if you plan to do 3D modeling, segmentation, or alignment.\n",
        "- **The .json file** provides essential scan and de-identification context — especially useful in research sharing or automated pipelines.\n"
      ]
    },
    {
      "cell_type": "markdown",
      "id": "7ccd5716",
      "metadata": {
        "id": "7ccd5716"
      },
      "source": [
        "# 🧠 Part IV: Basic Threshold-Based Segmentation"
      ]
    },
    {
      "cell_type": "code",
      "execution_count": null,
      "id": "edd9b31f",
      "metadata": {
        "id": "edd9b31f"
      },
      "outputs": [],
      "source": [
        "\n",
        "# Apply window level (center = 50, width = 100)\n",
        "window_center = 50\n",
        "window_width = 100\n",
        "window_min = window_center - (window_width / 2)\n",
        "window_max = window_center + (window_width / 2)\n",
        "\n",
        "def apply_window(slice_data):\n",
        "    win = slice_data.copy()\n",
        "    win[win < window_min] = window_min\n",
        "    win[win > window_max] = window_max\n",
        "    return (win - window_min) / (window_max - window_min)\n",
        "\n",
        "\n",
        "# Select a slice and apply a threshold to highlight dense regions (like bone or blood)\n",
        "slice_index = data_tilt.shape[2] // 2\n",
        "slice_data = data_tilt[:, :, slice_index]\n",
        "windowed = apply_window(slice_data)\n",
        "\n",
        "# Simple threshold for hyperdense regions (HU > ~70)\n",
        "threshold_min = 70\n",
        "mask = slice_data > threshold_min\n",
        "\n",
        "#Visualize original vs mask (rotated 90° counterclockwise)\n",
        "plt.figure(figsize=(12, 6))\n",
        "\n",
        "plt.subplot(1, 2, 1)\n",
        "plt.imshow(np.rot90(windowed, k=1), cmap='gray')  # Rotate left\n",
        "plt.title(\"Windowed Slice (C=50, W=100)\")\n",
        "plt.axis('off')\n",
        "\n",
        "plt.subplot(1, 2, 2)\n",
        "plt.imshow(np.rot90(mask, k=1), cmap='gray')  # Rotate left\n",
        "plt.title(\"Threshold Mask (HU > 70)\")\n",
        "plt.axis('off')\n",
        "\n",
        "plt.tight_layout()\n",
        "plt.show()\n"
      ]
    },
    {
      "cell_type": "code",
      "execution_count": null,
      "id": "ae5a49da",
      "metadata": {
        "id": "ae5a49da"
      },
      "outputs": [],
      "source": [
        "# Threshold to isolate soft tissue brain (approx. HU 20–80)\n",
        "lower_bound = 10   # Below this = CSF/air\n",
        "upper_bound = 80   # Above this = skull/bone\n",
        "\n",
        "# Get a slice\n",
        "slice_index = data_tilt.shape[2] // 2\n",
        "slice_data = data_tilt[:, :, slice_index]\n",
        "windowed = apply_window(slice_data)\n",
        "\n",
        "# Create soft tissue mask\n",
        "soft_tissue_mask = (slice_data > lower_bound) & (slice_data < upper_bound)\n",
        "\n",
        "# Apply mask to the windowed slice\n",
        "brain_only = windowed * soft_tissue_mask\n",
        "\n",
        "# Plot windowed vs soft tissue extraction\n",
        "plt.figure(figsize=(12, 6))\n",
        "\n",
        "plt.subplot(1, 2, 1)\n",
        "plt.imshow(np.rot90(windowed, k=1), cmap='gray')\n",
        "plt.title(\"Original Windowed Slice (C=50, W=100)\")\n",
        "plt.axis('off')\n",
        "\n",
        "plt.subplot(1, 2, 2)\n",
        "plt.imshow(np.rot90(brain_only, k=1), cmap='gray')\n",
        "plt.title(\"Soft Tissue Brain Segmentation (HU 20–80)\")\n",
        "plt.axis('off')\n",
        "\n",
        "plt.tight_layout()\n",
        "plt.show()\n"
      ]
    },
    {
      "cell_type": "code",
      "execution_count": null,
      "id": "2b257512",
      "metadata": {
        "id": "2b257512"
      },
      "outputs": [],
      "source": [
        "# Define HU thresholds for acute blood\n",
        "blood_lower = 40\n",
        "blood_upper = 90\n",
        "\n",
        "# Select a slice\n",
        "slice_index = data_tilt.shape[2] // 2\n",
        "slice_data = data_tilt[:, :, slice_index]\n",
        "windowed = apply_window(slice_data)\n",
        "\n",
        "# Create mask for acute blood (hyperdense, but not bone)\n",
        "acute_blood_mask = (slice_data >= blood_lower) & (slice_data <= blood_upper)\n",
        "\n",
        "# Apply mask to the windowed image\n",
        "blood_only = windowed * acute_blood_mask\n",
        "\n",
        "# Plot side-by-side\n",
        "plt.figure(figsize=(12, 6))\n",
        "\n",
        "plt.subplot(1, 2, 1)\n",
        "plt.imshow(np.rot90(windowed, k=1), cmap='gray')\n",
        "plt.title(\"Original Windowed Slice (C=50, W=100)\")\n",
        "plt.axis('off')\n",
        "\n",
        "plt.subplot(1, 2, 2)\n",
        "plt.imshow(np.rot90(blood_only, k=1), cmap='gray')\n",
        "plt.title(\"Acute Blood Segmentation (HU 40–90)\")\n",
        "plt.axis('off')\n",
        "\n",
        "plt.tight_layout()\n",
        "plt.show()\n"
      ]
    },
    {
      "cell_type": "code",
      "execution_count": null,
      "id": "6b5ddf46",
      "metadata": {
        "scrolled": false,
        "id": "6b5ddf46"
      },
      "outputs": [],
      "source": [
        "\n",
        "# 1. Create the binary mask for acute blood\n",
        "acute_blood_mask = (slice_data >= blood_lower) & (slice_data <= blood_upper)\n",
        "\n",
        "# 2. Label connected components\n",
        "labeled_mask, num_features = label(acute_blood_mask)\n",
        "\n",
        "# 3. Find the largest component (by pixel count)\n",
        "if num_features > 0:\n",
        "    component_sizes = [(labeled_mask == i).sum() for i in range(1, num_features + 1)]\n",
        "    largest_component = component_sizes.index(max(component_sizes)) + 1\n",
        "    largest_mask = labeled_mask == largest_component\n",
        "else:\n",
        "    largest_mask = np.zeros_like(acute_blood_mask)\n",
        "\n",
        "# 4. Apply the largest mask to the windowed image\n",
        "largest_blood_only = windowed * largest_mask\n",
        "\n",
        "# 5. Plot comparison\n",
        "plt.figure(figsize=(12, 6))\n",
        "\n",
        "plt.subplot(1, 2, 1)\n",
        "plt.imshow(np.rot90(windowed, k=1), cmap='gray')\n",
        "plt.title(\"Original Windowed Slice (C=50, W=100)\")\n",
        "plt.axis('off')\n",
        "\n",
        "plt.subplot(1, 2, 2)\n",
        "plt.imshow(np.rot90(largest_blood_only, k=1), cmap='gray')\n",
        "plt.title(\"Largest Acute Blood Region\")\n",
        "plt.axis('off')\n",
        "\n",
        "plt.tight_layout()\n",
        "plt.show()\n"
      ]
    },
    {
      "cell_type": "markdown",
      "id": "176f9e13",
      "metadata": {
        "id": "176f9e13"
      },
      "source": [
        "## 🧱 1. What Are CT Artifacts?\n",
        "CT artifacts are distortions or errors in CT images that do not accurately represent the scanned anatomy. They can arise from patient motion, metal implants, beam physics, or image reconstruction errors. Understanding them is critical for avoiding diagnostic pitfalls.\n"
      ]
    },
    {
      "cell_type": "markdown",
      "id": "a0189b1b",
      "metadata": {
        "id": "a0189b1b"
      },
      "source": [
        "## 🌀 2. Motion Artifacts\n",
        "- Cause: patient movement during scan (e.g. breathing, tremors)\n",
        "\n",
        "- Appearance: ghosting, streaking\n",
        "\n",
        "- Impact: can obscure pathology (e.g., hemorrhages, fractures)\n",
        "\n",
        "<img src=\"https://docs.google.com/uc?export=download&id=\n",
        "10Xhu7FEVpKQ2p8y4J-U7hFwX-RXebGkw\">\n",
        "   - Authors: Cuete D, Murphy A, Niknejad M, et al.\n",
        "   - Journal: Radiopeadia\n",
        "   - DOI: https://doi.org/10.53347/rID-25638\n",
        "   - link: https://radiopaedia.org/articles/ct-artifacts?lang=us\n"
      ]
    },
    {
      "cell_type": "markdown",
      "id": "43bff749",
      "metadata": {
        "id": "43bff749"
      },
      "source": [
        "## 🧲 3. Metal Artifacts\n",
        "- Cause: presence of surgical clips, dental implants, hardware\n",
        "\n",
        "- Appearance: bright streaks or dark bands radiating from the metal\n",
        "\n",
        "- Fix: metal artifact reduction (MAR) algorithms\n",
        "\n",
        "<img src=\"https://docs.google.com/uc?export=download&id=\n",
        "1varvqVvNvORS5OQr8MldKSH_G6D7QUjR\">\n",
        "\n",
        "https://www.researchgate.net/figure/Axial-brain-unenhanced-CT-images-illustrating-the-4-combinations-of-reconstruction-from-a_fig1_325856304"
      ]
    },
    {
      "cell_type": "markdown",
      "id": "cedfbfc6",
      "metadata": {
        "id": "cedfbfc6"
      },
      "source": [
        "## 💥 4. Beam Hardening\n",
        "- Cause: low-energy photons absorbed more than high-energy ones → non-uniform attenuation\n",
        "\n",
        "- Appearance: dark streaks or cupping, often near dense structures (like bone)\n",
        "\n",
        "- Seen in: posterior fossa, skull base\n",
        "\n",
        "<img src=\"https://docs.google.com/uc?export=download&id=\n",
        "1z9314eGVmEBh3iYsb5M9HLNBydI2nWJp\">\n",
        "   - Authors: Murphy A, Hacking C, Campos A, et al.\n",
        "   - Journal: Radiopeadia\n",
        "   - DOI: https://doi.org/10.53347/rID-48590\n",
        "   - link: https://radiopaedia.org/articles/beam-hardening\n"
      ]
    },
    {
      "cell_type": "markdown",
      "id": "3828388f",
      "metadata": {
        "id": "3828388f"
      },
      "source": [
        "## 📌 5. How to Minimize Artifacts\n",
        "- Instruct patient to remain still\n",
        "- Use thinner slices when possible\n",
        "- Apply metal artifact reduction (MAR) algorithms\n",
        "- Adjust window/level settings\n",
        "- Use dual-energy CT in complex metal cases\n"
      ]
    },
    {
      "cell_type": "markdown",
      "id": "589a7ff2",
      "metadata": {
        "id": "589a7ff2"
      },
      "source": [
        "## 🧠 6. Machine Learning-Based Artifact Reduction\n",
        "\n",
        "- Convolutional Neural Networks (CNNs) and other deep learning models can be trained to learn the patterns of CT artifacts (e.g., motion, metal, beam hardening).\n",
        "- These models are often trained on pairs of **artifact-corrupted** and **artifact-free** images, learning to denoise, deblur, or restore clean anatomy.\n",
        "- Even in downsampled (low-resolution) scans, CNNs can enhance contrast and texture fidelity, then **reconstruct high-quality CT images** without artifacts.\n",
        "- This approach is especially promising in settings where MAR algorithms are not available, or when scan quality is compromised due to patient or equipment limitations.\n",
        "\n",
        "\n",
        "## 📄 Suggested Paper (IEEE TMI, 2018):\n",
        "- Title: Convolutional Neural Network Based Metal Artifact Reduction in X-Ray Computed Tomography\n",
        "- Authors: Zhang Y, Yu H.\n",
        "- Journal: IEEE Trans Med Imaging. 2018;37(6):1370-1381\n",
        "- DOI: 10.1109/TMI.2018.2823083\n",
        "- link: https://pmc.ncbi.nlm.nih.gov/articles/PMC5998663/#S15\n",
        "\n",
        "- Summary: This study developed a CNN to correct metal-induced artifacts in CT scans. The model improved image quality by learning residual artifact patterns and restoring the underlying anatomy, outperforming traditional MAR techniques.\n",
        "\n",
        "<img src=\"https://docs.google.com/uc?export=download&id=\n",
        "1ycRV1fT7lwZNZxPoRNzBcEPSYxtkNQyV\">\n",
        "\n",
        "The head CT image with a surgical clip. (a) is the original uncorrected image, and (b)–(f) are the corrected results by the BHC, LI, NMAR1, NMAR2 and CNN-MAR, respectively. The display window is [−100 200] HU."
      ]
    },
    {
      "cell_type": "markdown",
      "id": "30c1df18",
      "metadata": {
        "id": "30c1df18"
      },
      "source": [
        "---\n",
        "\n",
        "## 🙏 Thank You!\n",
        "\n",
        "Thank you for exploring this hands-on session on structural neuroimaging and medical image analysis.\n",
        "\n",
        "I hope this workshop provided a useful introduction to working with CT data, understanding artifacts, and exploring segmentation techniques. If you have any questions, ideas, or would like to collaborate, feel free to reach out!\n",
        "\n",
        "👩🏻‍💻 *Scarlett Cheong*  \n",
        "📧 cheon068@umn.edu  \n",
        "🔬 University of Minnesota  \n"
      ]
    },
    {
      "cell_type": "code",
      "execution_count": null,
      "id": "edf02767",
      "metadata": {
        "id": "edf02767"
      },
      "outputs": [],
      "source": []
    }
  ],
  "metadata": {
    "kernelspec": {
      "display_name": "Python 3 (ipykernel)",
      "language": "python",
      "name": "python3"
    },
    "language_info": {
      "codemirror_mode": {
        "name": "ipython",
        "version": 3
      },
      "file_extension": ".py",
      "mimetype": "text/x-python",
      "name": "python",
      "nbconvert_exporter": "python",
      "pygments_lexer": "ipython3",
      "version": "3.11.4"
    },
    "colab": {
      "provenance": []
    }
  },
  "nbformat": 4,
  "nbformat_minor": 5
}